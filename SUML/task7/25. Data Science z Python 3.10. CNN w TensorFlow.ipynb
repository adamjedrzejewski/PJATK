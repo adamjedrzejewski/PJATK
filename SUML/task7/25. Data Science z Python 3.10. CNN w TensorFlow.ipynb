{
 "cells": [
  {
   "cell_type": "markdown",
   "metadata": {},
   "source": [
    "# Data Science z Python 3.10. CNN w TensorFlow\n",
    "## 🇬🇧 Data Science with Python 3.10. CNN with TensorFlow\n",
    "#### 👨‍🏫 PhD Wojciech Oronowicz-Jaśkowiak\n",
    "#### 🤖 https://www.oronowicz-jaśkowiak.pl/studenci/pjatk"
   ]
  },
  {
   "cell_type": "code",
   "execution_count": null,
   "metadata": {},
   "outputs": [],
   "source": [
    "import os\n",
    "import numpy as np\n",
    "import pandas as pd\n",
    "import matplotlib.pyplot as plt\n",
    "import shutil\n",
    "import keras\n",
    "import plotly.graph_objects as go\n",
    "\n",
    "from sklearn.metrics import confusion_matrix, classification_report\n",
    "from tensorflow.keras.preprocessing import image\n",
    "from tensorflow.keras.preprocessing.image import ImageDataGenerator\n",
    "from tensorflow.keras.models import Sequential\n",
    "from tensorflow.keras import layers\n",
    "from tensorflow.keras import optimizers\n",
    "from tensorflow.keras.callbacks import TensorBoard\n",
    "from tensorflow.keras.applications import ResNet50"
   ]
  },
  {
   "cell_type": "code",
   "execution_count": null,
   "metadata": {
    "colab": {
     "base_uri": "https://localhost:8080/",
     "height": 54
    },
    "id": "QWeLG3GHlfhu",
    "outputId": "19c3fbdc-e724-496b-bd76-e9b73d9c08e7"
   },
   "outputs": [],
   "source": [
    "base_dir = '/media/linux/...'\n",
    "raw_no_of_files = {}\n",
    "classes = ['1', '2', '3']\n",
    "for dir in classes:\n",
    "    raw_no_of_files[dir] = len(os.listdir(os.path.join(base_dir, dir)))\n",
    "raw_no_of_files.items()"
   ]
  },
  {
   "cell_type": "code",
   "execution_count": null,
   "metadata": {
    "id": "ytp_UfCwo08K"
   },
   "outputs": [],
   "source": [
    "base_dir = '/media/linux/...'\n",
    "data_dir = '/media/linux/...'\n",
    "\n",
    "if not os.path.exists(data_dir):\n",
    "    os.mkdir(data_dir)\n",
    "\n",
    "train_dir = os.path.join(data_dir, 'train')    # katalog zbioru treningowego\n",
    "valid_dir = os.path.join(data_dir, 'valid')    # katalog zbioru walidacyjnego\n",
    "test_dir = os.path.join(data_dir, 'test')      # katalog zbioru testowego\n",
    "\n",
    "train_class1_dir = os.path.join(train_dir, '1')\n",
    "train_class2_dir = os.path.join(train_dir, '2')\n",
    "train_class3_dir = os.path.join(train_dir, '3')\n",
    "\n",
    "valid_class1_dir = os.path.join(valid_dir, '1')\n",
    "valid_class2_dir = os.path.join(valid_dir, '2')\n",
    "valid_class3_dir = os.path.join(valid_dir, '3')\n",
    "\n",
    "test_class1_dir = os.path.join(test_dir, '1')\n",
    "test_class2_dir = os.path.join(test_dir, '2')\n",
    "test_class3_dir = os.path.join(test_dir, '3')\n",
    "\n",
    "for directory in (train_dir, valid_dir, test_dir):\n",
    "    if not os.path.exists(directory):\n",
    "        os.mkdir(directory)\n",
    "\n",
    "dirs = [train_class1_dir, train_class2_dir, train_class3_dir,\n",
    "        valid_class1_dir, valid_class2_dir, valid_class3_dir,\n",
    "        test_class1_dir, test_class2_dir, test_class3_dir]\n",
    "\n",
    "for dir in dirs:\n",
    "    if not os.path.exists(dir):\n",
    "        os.mkdir(dir)        "
   ]
  },
  {
   "cell_type": "code",
   "execution_count": null,
   "metadata": {
    "id": "qusrhKHHuOSb"
   },
   "outputs": [],
   "source": [
    "class1_fnames = os.listdir(os.path.join(base_dir, '1'))\n",
    "class2_fnames = os.listdir(os.path.join(base_dir, '2'))\n",
    "class3_fnames = os.listdir(os.path.join(base_dir, '3'))\n",
    "\n",
    "class1_fnames = [fname for fname in class1_fnames if fname.split('.')[1].lower() in ['jpg', 'png', 'jpeg']]\n",
    "class2_fnames = [fname for fname in class2_fnames if fname.split('.')[1].lower() in ['jpg', 'png', 'jpeg']]\n",
    "class3_fnames = [fname for fname in class3_fnames if fname.split('.')[1].lower() in ['jpg', 'png', 'jpeg']]"
   ]
  },
  {
   "cell_type": "code",
   "execution_count": null,
   "metadata": {
    "id": "DfuC6DFgqh-A"
   },
   "outputs": [],
   "source": [
    "size = min(len(class1_fnames), len(class2_fnames), len(class3_fnames))\n",
    "\n",
    "train_size = int(np.floor(0.7 * size))\n",
    "valid_size = int(np.floor(0.2 * size))\n",
    "test_size = size - train_size - valid_size\n",
    "\n",
    "train_idx = train_size\n",
    "valid_idx = train_size + valid_size\n",
    "test_idx = train_size + valid_size + test_size"
   ]
  },
  {
   "cell_type": "code",
   "execution_count": null,
   "metadata": {
    "colab": {
     "base_uri": "https://localhost:8080/",
     "height": 171
    },
    "id": "BHKBORIZsfoa",
    "outputId": "ce3a3ba9-03de-4d8e-b5d9-b4972c1aa7ad"
   },
   "outputs": [],
   "source": [
    "for i, fname in enumerate(class1_fnames):\n",
    "    if i <= train_idx:\n",
    "        src = os.path.join(base_dir, '1', fname)\n",
    "        dst = os.path.join(train_class1_dir, fname)\n",
    "        shutil.copyfile(src, dst)\n",
    "    elif train_idx < i <= valid_idx:\n",
    "        src = os.path.join(base_dir, '1', fname)\n",
    "        dst = os.path.join(valid_class1_dir, fname)\n",
    "        shutil.copyfile(src, dst)\n",
    "    elif valid_idx < i < test_idx:\n",
    "        src = os.path.join(base_dir, '1', fname)\n",
    "        dst = os.path.join(test_class1_dir, fname)\n",
    "        shutil.copyfile(src, dst)\n",
    "\n",
    "for i, fname in enumerate(class2_fnames):\n",
    "    if i <= train_idx:\n",
    "        src = os.path.join(base_dir, '2', fname)\n",
    "        dst = os.path.join(train_class2_dir, fname)\n",
    "        shutil.copyfile(src, dst)\n",
    "    elif train_idx < i <= valid_idx:\n",
    "        src = os.path.join(base_dir, '2', fname)\n",
    "        dst = os.path.join(valid_class2_dir, fname)\n",
    "        shutil.copyfile(src, dst)\n",
    "    elif valid_idx < i < test_idx:\n",
    "        src = os.path.join(base_dir, '2', fname)\n",
    "        dst = os.path.join(test_class2_dir, fname)\n",
    "        shutil.copyfile(src, dst) \n",
    "\n",
    "for i, fname in enumerate(class3fnames):\n",
    "    if i <= train_idx:\n",
    "        src = os.path.join(base_dir, '3', fname)\n",
    "        dst = os.path.join(train_class3_dir, fname)\n",
    "        shutil.copyfile(src, dst)\n",
    "    elif train_idx < i <= valid_idx:\n",
    "        src = os.path.join(base_dir, '3', fname)\n",
    "        dst = os.path.join(valid_class3_dir, fname)\n",
    "        shutil.copyfile(src, dst)\n",
    "    elif valid_idx < i < test_idx:\n",
    "        src = os.path.join(base_dir, '3', fname)\n",
    "        dst = os.path.join(test_class3_dir, fname)\n",
    "        shutil.copyfile(src, dst)        \n",
    "\n",
    "print('1 - zbiór treningowy', len(os.listdir(train_class1_dir)))\n",
    "print('1 - zbiór walidacyjny', len(os.listdir(valid_class1_dir)))\n",
    "print('1 - zbiór testowy', len(os.listdir(test_class1_dir)))\n",
    "\n",
    "print('2 - zbiór treningowy', len(os.listdir(train_class2_dir)))\n",
    "print('2 - zbiór walidacyjny', len(os.listdir(valid_class2_dir)))\n",
    "print('2 - zbiór testowy', len(os.listdir(test_class2_dir))) \n",
    "\n",
    "print('3 - zbiór treningowy', len(os.listdir(train_class3_dir)))\n",
    "print('3 - zbiór walidacyjny', len(os.listdir(valid_class3_dir)))\n",
    "print('3 - zbiór testowy', len(os.listdir(test_class3_dir))) "
   ]
  },
  {
   "cell_type": "markdown",
   "metadata": {
    "id": "WG2z-bSaSCom"
   },
   "source": [
    "### <a name='a4'></a> Augmentcja danych"
   ]
  },
  {
   "cell_type": "code",
   "execution_count": null,
   "metadata": {
    "colab": {
     "base_uri": "https://localhost:8080/",
     "height": 51
    },
    "id": "7mfRlYv35F43",
    "outputId": "5e06f46a-7428-4ffc-dd68-d8568e6c39b9"
   },
   "outputs": [],
   "source": [
    "train_datagen = ImageDataGenerator()\n",
    "\n",
    "valid_datagen = ImageDataGenerator(rescale=1./255.)\n",
    "\n",
    "train_generator = train_datagen.flow_from_directory(directory=train_dir,\n",
    "                                                   target_size=(150, 150),\n",
    "                                                   batch_size=32,\n",
    "                                                   class_mode='categorical')\n",
    "\n",
    "valid_generator = valid_datagen.flow_from_directory(directory=valid_dir,\n",
    "                                                   target_size=(150, 150),\n",
    "                                                   batch_size=32,\n",
    "                                                   class_mode='categorical')"
   ]
  },
  {
   "cell_type": "code",
   "execution_count": null,
   "metadata": {
    "id": "DzLUqI486qFr"
   },
   "outputs": [],
   "source": [
    "batch_size = 20\n",
    "steps_per_epoch = train_size // batch_size\n",
    "validation_steps = valid_size // batch_size"
   ]
  },
  {
   "cell_type": "code",
   "execution_count": null,
   "metadata": {
    "colab": {
     "base_uri": "https://localhost:8080/",
     "height": 448
    },
    "id": "JToulUvDVZCQ",
    "outputId": "0b201043-77db-406d-c647-fe64ae07738f"
   },
   "outputs": [],
   "source": [
    "conv_base = ResNet50(weights='imagenet', include_top=False, input_shape=(150, 150, 3))\n",
    "conv_base.trainable = True\n",
    "\n",
    "def print_layers(model):\n",
    "    for layer in model.layers:\n",
    "        print(f'layer_name: {layer.name:13} trainable: {layer.trainable}')\n",
    "\n",
    "print_layers(conv_base)"
   ]
  },
  {
   "cell_type": "code",
   "execution_count": null,
   "metadata": {
    "colab": {
     "base_uri": "https://localhost:8080/",
     "height": 394
    },
    "id": "GUtDUJzxWL8r",
    "outputId": "e74be590-b7ae-4f3d-a12c-0cce425dcb2c"
   },
   "outputs": [],
   "source": [
    "set_trainable = False\n",
    "for layer in conv_base.layers:\n",
    "    if layer.name == 'block5_conv1':\n",
    "        set_trainable = True\n",
    "    if set_trainable:\n",
    "        layer.trainable = True\n",
    "    else:\n",
    "        layer.trainable = False\n",
    "\n",
    "print_layers(conv_base)"
   ]
  },
  {
   "cell_type": "code",
   "execution_count": null,
   "metadata": {
    "colab": {
     "base_uri": "https://localhost:8080/",
     "height": 291
    },
    "id": "IGUM0ABqWo3a",
    "outputId": "8f1a8ee3-909d-43ba-cf8f-52df20b374f3"
   },
   "outputs": [],
   "source": [
    "model = Sequential()\n",
    "model.add(conv_base)\n",
    "model.add(layers.Flatten())\n",
    "model.add(layers.Dense(units=256, activation='relu'))\n",
    "model.add(layers.Dense(units=3, activation='softmax'))\n",
    "\n",
    "model.compile(optimizer=optimizers.RMSprop(lr=1e-5),\n",
    "             loss='categorical_crossentropy',\n",
    "             metrics=['accuracy'])\n",
    "\n",
    "model.summary()"
   ]
  },
  {
   "cell_type": "code",
   "execution_count": null,
   "metadata": {},
   "outputs": [],
   "source": [
    "model.fit(train_generator, epochs=1, steps_per_epoch=2)"
   ]
  },
  {
   "cell_type": "code",
   "execution_count": null,
   "metadata": {
    "id": "JbFmJSS6_X--"
   },
   "outputs": [],
   "source": [
    "model.save('saved_model/my_model2')"
   ]
  },
  {
   "cell_type": "code",
   "execution_count": null,
   "metadata": {},
   "outputs": [],
   "source": [
    "new_model = keras.models.load_model('saved_model/my_model')\n",
    "new_model.summary()"
   ]
  },
  {
   "cell_type": "code",
   "execution_count": null,
   "metadata": {},
   "outputs": [],
   "source": [
    "#pip install tf2onnx\n",
    "#python -m tf2onnx.convert --saved-model /home/linux/saved_model/my_model --output /home/linux/saved_model/my_model/tfmodel.onnx"
   ]
  }
 ],
 "metadata": {
  "accelerator": "GPU",
  "colab": {
   "name": "Untitled0.ipynb",
   "provenance": []
  },
  "kernelspec": {
   "display_name": "Python 3 (ipykernel)",
   "language": "python",
   "name": "python3"
  },
  "language_info": {
   "codemirror_mode": {
    "name": "ipython",
    "version": 3
   },
   "file_extension": ".py",
   "mimetype": "text/x-python",
   "name": "python",
   "nbconvert_exporter": "python",
   "pygments_lexer": "ipython3",
   "version": "3.10.8"
  }
 },
 "nbformat": 4,
 "nbformat_minor": 1
}
