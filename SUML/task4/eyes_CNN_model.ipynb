{
 "cells": [
  {
   "cell_type": "code",
   "execution_count": 35,
   "id": "7e02432d",
   "metadata": {},
   "outputs": [],
   "source": [
    "import os\n",
    "import pandas as pd\n",
    "import numpy as np\n",
    "import cv2\n",
    "import matplotlib.pyplot as plt\n",
    "\n",
    "from random import shuffle\n",
    "from sklearn.preprocessing import LabelEncoder\n",
    "from sklearn.model_selection import train_test_split\n",
    "#from tensorflow.keras.models import Sequential\n",
    "#from tensorflow.keras.layers import Conv2D, MaxPooling2D, Dropout, Flatten, Dense, BatchNormalization\n",
    "#from tensorflow.keras import layers"
   ]
  },
  {
   "cell_type": "code",
   "execution_count": 2,
   "id": "ef9f4965",
   "metadata": {},
   "outputs": [],
   "source": [
    "dataset_dir = './dataset'\n",
    "male_eyes = f'{dataset_dir}/maleeyes'\n",
    "female_eyes = f'{dataset_dir}/femaleeyes'"
   ]
  },
  {
   "cell_type": "markdown",
   "id": "f33338bc",
   "metadata": {},
   "source": [
    "## create dataframe"
   ]
  },
  {
   "cell_type": "code",
   "execution_count": 3,
   "id": "772d2b97",
   "metadata": {},
   "outputs": [],
   "source": [
    "male_eyes_files = [[os.path.join(male_eyes, filename), 'male'] for filename in os.listdir(male_eyes)]\n",
    "female_eyes_files = [[os.path.join(female_eyes, filename), 'female'] for filename in os.listdir(female_eyes)]"
   ]
  },
  {
   "cell_type": "markdown",
   "id": "72355165",
   "metadata": {},
   "source": [
    "balance the data"
   ]
  },
  {
   "cell_type": "code",
   "execution_count": 4,
   "id": "75cb8c19",
   "metadata": {},
   "outputs": [
    {
     "data": {
      "text/plain": [
       "6323"
      ]
     },
     "execution_count": 4,
     "metadata": {},
     "output_type": "execute_result"
    }
   ],
   "source": [
    "len(male_eyes_files)"
   ]
  },
  {
   "cell_type": "code",
   "execution_count": 5,
   "id": "306fc7c7",
   "metadata": {},
   "outputs": [
    {
     "data": {
      "text/plain": [
       "5202"
      ]
     },
     "execution_count": 5,
     "metadata": {},
     "output_type": "execute_result"
    }
   ],
   "source": [
    "len(female_eyes_files)"
   ]
  },
  {
   "cell_type": "code",
   "execution_count": 6,
   "id": "ee9a5c6a",
   "metadata": {},
   "outputs": [],
   "source": [
    "male_eyes_files = male_eyes_files[:5202]"
   ]
  },
  {
   "cell_type": "code",
   "execution_count": 7,
   "id": "d47e3449",
   "metadata": {},
   "outputs": [
    {
     "data": {
      "text/plain": [
       "True"
      ]
     },
     "execution_count": 7,
     "metadata": {},
     "output_type": "execute_result"
    }
   ],
   "source": [
    "len(male_eyes_files) == len(female_eyes_files)"
   ]
  },
  {
   "cell_type": "code",
   "execution_count": 8,
   "id": "627bc49d",
   "metadata": {},
   "outputs": [],
   "source": [
    "eyes_files = male_eyes_files + female_eyes_files"
   ]
  },
  {
   "cell_type": "code",
   "execution_count": 9,
   "id": "f5ce6e6b",
   "metadata": {},
   "outputs": [],
   "source": [
    "df = pd.DataFrame(eyes_files, columns=['image_path', 'label'])"
   ]
  },
  {
   "cell_type": "code",
   "execution_count": 10,
   "id": "b1714308",
   "metadata": {},
   "outputs": [
    {
     "data": {
      "text/html": [
       "<div>\n",
       "<style scoped>\n",
       "    .dataframe tbody tr th:only-of-type {\n",
       "        vertical-align: middle;\n",
       "    }\n",
       "\n",
       "    .dataframe tbody tr th {\n",
       "        vertical-align: top;\n",
       "    }\n",
       "\n",
       "    .dataframe thead th {\n",
       "        text-align: right;\n",
       "    }\n",
       "</style>\n",
       "<table border=\"1\" class=\"dataframe\">\n",
       "  <thead>\n",
       "    <tr style=\"text-align: right;\">\n",
       "      <th></th>\n",
       "      <th>image_path</th>\n",
       "      <th>label</th>\n",
       "    </tr>\n",
       "  </thead>\n",
       "  <tbody>\n",
       "    <tr>\n",
       "      <th>count</th>\n",
       "      <td>10404</td>\n",
       "      <td>10404</td>\n",
       "    </tr>\n",
       "    <tr>\n",
       "      <th>unique</th>\n",
       "      <td>10404</td>\n",
       "      <td>2</td>\n",
       "    </tr>\n",
       "    <tr>\n",
       "      <th>top</th>\n",
       "      <td>./dataset/maleeyes/63.jpg</td>\n",
       "      <td>male</td>\n",
       "    </tr>\n",
       "    <tr>\n",
       "      <th>freq</th>\n",
       "      <td>1</td>\n",
       "      <td>5202</td>\n",
       "    </tr>\n",
       "  </tbody>\n",
       "</table>\n",
       "</div>"
      ],
      "text/plain": [
       "                       image_path  label\n",
       "count                       10404  10404\n",
       "unique                      10404      2\n",
       "top     ./dataset/maleeyes/63.jpg   male\n",
       "freq                            1   5202"
      ]
     },
     "execution_count": 10,
     "metadata": {},
     "output_type": "execute_result"
    }
   ],
   "source": [
    "df.describe()"
   ]
  },
  {
   "cell_type": "code",
   "execution_count": 11,
   "id": "7aad73b2",
   "metadata": {},
   "outputs": [],
   "source": [
    "df = df.sample(frac=1).reset_index(drop=True)"
   ]
  },
  {
   "cell_type": "code",
   "execution_count": 12,
   "id": "d277de62",
   "metadata": {},
   "outputs": [
    {
     "data": {
      "text/html": [
       "<div>\n",
       "<style scoped>\n",
       "    .dataframe tbody tr th:only-of-type {\n",
       "        vertical-align: middle;\n",
       "    }\n",
       "\n",
       "    .dataframe tbody tr th {\n",
       "        vertical-align: top;\n",
       "    }\n",
       "\n",
       "    .dataframe thead th {\n",
       "        text-align: right;\n",
       "    }\n",
       "</style>\n",
       "<table border=\"1\" class=\"dataframe\">\n",
       "  <thead>\n",
       "    <tr style=\"text-align: right;\">\n",
       "      <th></th>\n",
       "      <th>image_path</th>\n",
       "      <th>label</th>\n",
       "    </tr>\n",
       "  </thead>\n",
       "  <tbody>\n",
       "    <tr>\n",
       "      <th>0</th>\n",
       "      <td>./dataset/femaleeyes/6550.jpg</td>\n",
       "      <td>female</td>\n",
       "    </tr>\n",
       "    <tr>\n",
       "      <th>1</th>\n",
       "      <td>./dataset/maleeyes/5094.jpg</td>\n",
       "      <td>male</td>\n",
       "    </tr>\n",
       "    <tr>\n",
       "      <th>2</th>\n",
       "      <td>./dataset/femaleeyes/5553.jpg</td>\n",
       "      <td>female</td>\n",
       "    </tr>\n",
       "    <tr>\n",
       "      <th>3</th>\n",
       "      <td>./dataset/femaleeyes/4575.jpg</td>\n",
       "      <td>female</td>\n",
       "    </tr>\n",
       "    <tr>\n",
       "      <th>4</th>\n",
       "      <td>./dataset/femaleeyes/5001.jpg</td>\n",
       "      <td>female</td>\n",
       "    </tr>\n",
       "    <tr>\n",
       "      <th>...</th>\n",
       "      <td>...</td>\n",
       "      <td>...</td>\n",
       "    </tr>\n",
       "    <tr>\n",
       "      <th>10399</th>\n",
       "      <td>./dataset/maleeyes/4606.jpg</td>\n",
       "      <td>male</td>\n",
       "    </tr>\n",
       "    <tr>\n",
       "      <th>10400</th>\n",
       "      <td>./dataset/maleeyes/3657.jpg</td>\n",
       "      <td>male</td>\n",
       "    </tr>\n",
       "    <tr>\n",
       "      <th>10401</th>\n",
       "      <td>./dataset/femaleeyes/432.jpg</td>\n",
       "      <td>female</td>\n",
       "    </tr>\n",
       "    <tr>\n",
       "      <th>10402</th>\n",
       "      <td>./dataset/femaleeyes/3924.jpg</td>\n",
       "      <td>female</td>\n",
       "    </tr>\n",
       "    <tr>\n",
       "      <th>10403</th>\n",
       "      <td>./dataset/femaleeyes/1605.jpg</td>\n",
       "      <td>female</td>\n",
       "    </tr>\n",
       "  </tbody>\n",
       "</table>\n",
       "<p>10404 rows × 2 columns</p>\n",
       "</div>"
      ],
      "text/plain": [
       "                          image_path   label\n",
       "0      ./dataset/femaleeyes/6550.jpg  female\n",
       "1        ./dataset/maleeyes/5094.jpg    male\n",
       "2      ./dataset/femaleeyes/5553.jpg  female\n",
       "3      ./dataset/femaleeyes/4575.jpg  female\n",
       "4      ./dataset/femaleeyes/5001.jpg  female\n",
       "...                              ...     ...\n",
       "10399    ./dataset/maleeyes/4606.jpg    male\n",
       "10400    ./dataset/maleeyes/3657.jpg    male\n",
       "10401   ./dataset/femaleeyes/432.jpg  female\n",
       "10402  ./dataset/femaleeyes/3924.jpg  female\n",
       "10403  ./dataset/femaleeyes/1605.jpg  female\n",
       "\n",
       "[10404 rows x 2 columns]"
      ]
     },
     "execution_count": 12,
     "metadata": {},
     "output_type": "execute_result"
    }
   ],
   "source": [
    "df"
   ]
  },
  {
   "cell_type": "code",
   "execution_count": 13,
   "id": "1fe5c497",
   "metadata": {},
   "outputs": [
    {
     "data": {
      "text/plain": [
       "image_path    False\n",
       "label         False\n",
       "dtype: bool"
      ]
     },
     "execution_count": 13,
     "metadata": {},
     "output_type": "execute_result"
    }
   ],
   "source": [
    "df.isna().any()"
   ]
  },
  {
   "cell_type": "markdown",
   "id": "ede49836",
   "metadata": {},
   "source": [
    "## explore the images"
   ]
  },
  {
   "cell_type": "code",
   "execution_count": 14,
   "id": "a629c2fd",
   "metadata": {},
   "outputs": [],
   "source": [
    "female_eye = df[df['label'] == 'female'].iloc[0]['image_path']\n",
    "male_eye = df[df['label'] == 'male'].iloc[0]['image_path']"
   ]
  },
  {
   "cell_type": "code",
   "execution_count": 15,
   "id": "38ba7d45",
   "metadata": {},
   "outputs": [
    {
     "data": {
      "text/plain": [
       "Text(0.5, 1.0, 'female eye')"
      ]
     },
     "execution_count": 15,
     "metadata": {},
     "output_type": "execute_result"
    },
    {
     "data": {
      "image/png": "[encoded data removed]",
      "text/plain": [
       "<Figure size 200x200 with 1 Axes>"
      ]
     },
     "metadata": {},
     "output_type": "display_data"
    }
   ],
   "source": [
    "figure = plt.figure(figsize=(2,2))\n",
    "image = plt.imread(female_eye)\n",
    "plt.imshow(image)\n",
    "plt.xlabel(image.shape)\n",
    "plt.title('female eye')"
   ]
  },
  {
   "cell_type": "code",
   "execution_count": 16,
   "id": "2fcd2aa7",
   "metadata": {},
   "outputs": [
    {
     "data": {
      "text/plain": [
       "Text(0.5, 1.0, 'male eye')"
      ]
     },
     "execution_count": 16,
     "metadata": {},
     "output_type": "execute_result"
    },
    {
     "data": {
      "image/png": "[encoded data removed]",
      "text/plain": [
       "<Figure size 200x200 with 1 Axes>"
      ]
     },
     "metadata": {},
     "output_type": "display_data"
    }
   ],
   "source": [
    "figure = plt.figure(figsize=(2,2))\n",
    "image = plt.imread(male_eye)\n",
    "plt.imshow(image)\n",
    "plt.xlabel(image.shape)\n",
    "plt.title('male eye')"
   ]
  },
  {
   "cell_type": "markdown",
   "id": "655236e9",
   "metadata": {},
   "source": [
    "Those two samples have different sizes, let's resize all images to the same size for better classification"
   ]
  },
  {
   "cell_type": "code",
   "execution_count": 17,
   "id": "fd51c269",
   "metadata": {},
   "outputs": [
    {
     "data": {
      "text/plain": [
       "66"
      ]
     },
     "execution_count": 17,
     "metadata": {},
     "output_type": "execute_result"
    }
   ],
   "source": [
    "size_set = set()\n",
    "for image in df['image_path']:\n",
    "    x, y, _ = plt.imread(image).shape\n",
    "    size_set.add((x,y))\n",
    "len(size_set)"
   ]
  },
  {
   "cell_type": "code",
   "execution_count": 18,
   "id": "e81b967b",
   "metadata": {},
   "outputs": [],
   "source": [
    "sorted_sizes = list(sorted(size_set))\n",
    "smallest_image = sorted_sizes[0]\n",
    "largest_image = sorted_sizes[-1]"
   ]
  },
  {
   "cell_type": "code",
   "execution_count": 19,
   "id": "317dd99e",
   "metadata": {},
   "outputs": [
    {
     "name": "stdout",
     "output_type": "stream",
     "text": [
      "smallest:  (41, 41)\n",
      "largest: (117, 117)\n"
     ]
    }
   ],
   "source": [
    "print('smallest: ', smallest_image)\n",
    "print('largest:', largest_image)"
   ]
  },
  {
   "cell_type": "code",
   "execution_count": 28,
   "id": "5f15714c",
   "metadata": {},
   "outputs": [],
   "source": [
    "df_1 = df.copy()\n",
    "df_1 = df_1.rename(columns={'image_path':'image'})"
   ]
  },
  {
   "cell_type": "code",
   "execution_count": 29,
   "id": "6b8221f2",
   "metadata": {},
   "outputs": [],
   "source": [
    "size = (41, 41)\n",
    "for i in range(len(df)):\n",
    "    image = cv2.imread(df['image_path'][i])\n",
    "    image = cv2.resize(image, size)\n",
    "    image = cv2.cvtColor(image, cv2.COLOR_BGR2RGB)\n",
    "    df_1['image'][i] = image.flatten()"
   ]
  },
  {
   "cell_type": "code",
   "execution_count": 30,
   "id": "97c7475b",
   "metadata": {},
   "outputs": [
    {
     "data": {
      "text/html": [
       "<div>\n",
       "<style scoped>\n",
       "    .dataframe tbody tr th:only-of-type {\n",
       "        vertical-align: middle;\n",
       "    }\n",
       "\n",
       "    .dataframe tbody tr th {\n",
       "        vertical-align: top;\n",
       "    }\n",
       "\n",
       "    .dataframe thead th {\n",
       "        text-align: right;\n",
       "    }\n",
       "</style>\n",
       "<table border=\"1\" class=\"dataframe\">\n",
       "  <thead>\n",
       "    <tr style=\"text-align: right;\">\n",
       "      <th></th>\n",
       "      <th>image</th>\n",
       "      <th>label</th>\n",
       "    </tr>\n",
       "  </thead>\n",
       "  <tbody>\n",
       "    <tr>\n",
       "      <th>0</th>\n",
       "      <td>[196, 125, 95, 184, 115, 89, 159, 98, 77, 129,...</td>\n",
       "      <td>female</td>\n",
       "    </tr>\n",
       "    <tr>\n",
       "      <th>1</th>\n",
       "      <td>[215, 150, 119, 216, 151, 119, 211, 145, 113, ...</td>\n",
       "      <td>male</td>\n",
       "    </tr>\n",
       "    <tr>\n",
       "      <th>2</th>\n",
       "      <td>[107, 72, 48, 108, 72, 50, 115, 78, 56, 133, 9...</td>\n",
       "      <td>female</td>\n",
       "    </tr>\n",
       "    <tr>\n",
       "      <th>3</th>\n",
       "      <td>[221, 180, 148, 228, 187, 158, 229, 191, 163, ...</td>\n",
       "      <td>female</td>\n",
       "    </tr>\n",
       "    <tr>\n",
       "      <th>4</th>\n",
       "      <td>[58, 33, 4, 94, 60, 30, 119, 77, 44, 130, 90, ...</td>\n",
       "      <td>female</td>\n",
       "    </tr>\n",
       "  </tbody>\n",
       "</table>\n",
       "</div>"
      ],
      "text/plain": [
       "                                               image   label\n",
       "0  [196, 125, 95, 184, 115, 89, 159, 98, 77, 129,...  female\n",
       "1  [215, 150, 119, 216, 151, 119, 211, 145, 113, ...    male\n",
       "2  [107, 72, 48, 108, 72, 50, 115, 78, 56, 133, 9...  female\n",
       "3  [221, 180, 148, 228, 187, 158, 229, 191, 163, ...  female\n",
       "4  [58, 33, 4, 94, 60, 30, 119, 77, 44, 130, 90, ...  female"
      ]
     },
     "execution_count": 30,
     "metadata": {},
     "output_type": "execute_result"
    }
   ],
   "source": [
    "df_1.head()"
   ]
  },
  {
   "cell_type": "markdown",
   "id": "2c96ddbd",
   "metadata": {},
   "source": [
    "## CNN model"
   ]
  },
  {
   "cell_type": "markdown",
   "id": "10820335",
   "metadata": {},
   "source": [
    "encode labels"
   ]
  },
  {
   "cell_type": "code",
   "execution_count": 36,
   "id": "b2c3c968",
   "metadata": {},
   "outputs": [],
   "source": [
    "labelEncoder = LabelEncoder()\n",
    "df_1['label'] = np.asarray(labelEncoder.fit_transform(df_1['label']))"
   ]
  },
  {
   "cell_type": "code",
   "execution_count": 37,
   "id": "a26d2170",
   "metadata": {},
   "outputs": [
    {
     "data": {
      "text/html": [
       "<div>\n",
       "<style scoped>\n",
       "    .dataframe tbody tr th:only-of-type {\n",
       "        vertical-align: middle;\n",
       "    }\n",
       "\n",
       "    .dataframe tbody tr th {\n",
       "        vertical-align: top;\n",
       "    }\n",
       "\n",
       "    .dataframe thead th {\n",
       "        text-align: right;\n",
       "    }\n",
       "</style>\n",
       "<table border=\"1\" class=\"dataframe\">\n",
       "  <thead>\n",
       "    <tr style=\"text-align: right;\">\n",
       "      <th></th>\n",
       "      <th>image</th>\n",
       "      <th>label</th>\n",
       "    </tr>\n",
       "  </thead>\n",
       "  <tbody>\n",
       "    <tr>\n",
       "      <th>0</th>\n",
       "      <td>[196, 125, 95, 184, 115, 89, 159, 98, 77, 129,...</td>\n",
       "      <td>0</td>\n",
       "    </tr>\n",
       "    <tr>\n",
       "      <th>1</th>\n",
       "      <td>[215, 150, 119, 216, 151, 119, 211, 145, 113, ...</td>\n",
       "      <td>1</td>\n",
       "    </tr>\n",
       "    <tr>\n",
       "      <th>2</th>\n",
       "      <td>[107, 72, 48, 108, 72, 50, 115, 78, 56, 133, 9...</td>\n",
       "      <td>0</td>\n",
       "    </tr>\n",
       "    <tr>\n",
       "      <th>3</th>\n",
       "      <td>[221, 180, 148, 228, 187, 158, 229, 191, 163, ...</td>\n",
       "      <td>0</td>\n",
       "    </tr>\n",
       "    <tr>\n",
       "      <th>4</th>\n",
       "      <td>[58, 33, 4, 94, 60, 30, 119, 77, 44, 130, 90, ...</td>\n",
       "      <td>0</td>\n",
       "    </tr>\n",
       "  </tbody>\n",
       "</table>\n",
       "</div>"
      ],
      "text/plain": [
       "                                               image  label\n",
       "0  [196, 125, 95, 184, 115, 89, 159, 98, 77, 129,...      0\n",
       "1  [215, 150, 119, 216, 151, 119, 211, 145, 113, ...      1\n",
       "2  [107, 72, 48, 108, 72, 50, 115, 78, 56, 133, 9...      0\n",
       "3  [221, 180, 148, 228, 187, 158, 229, 191, 163, ...      0\n",
       "4  [58, 33, 4, 94, 60, 30, 119, 77, 44, 130, 90, ...      0"
      ]
     },
     "execution_count": 37,
     "metadata": {},
     "output_type": "execute_result"
    }
   ],
   "source": [
    "df_1.head()"
   ]
  },
  {
   "cell_type": "code",
   "execution_count": null,
   "id": "329c2536",
   "metadata": {},
   "outputs": [],
   "source": []
  }
 ],
 "metadata": {
  "kernelspec": {
   "display_name": "Python 3 (ipykernel)",
   "language": "python",
   "name": "python3"
  },
  "language_info": {
   "codemirror_mode": {
    "name": "ipython",
    "version": 3
   },
   "file_extension": ".py",
   "mimetype": "text/x-python",
   "name": "python",
   "nbconvert_exporter": "python",
   "pygments_lexer": "ipython3",
   "version": "3.10.6"
  }
 },
 "nbformat": 4,
 "nbformat_minor": 5
}
