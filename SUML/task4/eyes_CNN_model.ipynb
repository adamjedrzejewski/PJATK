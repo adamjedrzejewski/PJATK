{
 "cells": [
  {
   "cell_type": "code",
   "execution_count": 1,
   "id": "c40225f1",
   "metadata": {},
   "outputs": [
    {
     "data": {
      "text/plain": [
       "'/Users/adamjedrzejewski/opt/anaconda3/envs/suml_task4'"
      ]
     },
     "execution_count": 1,
     "metadata": {},
     "output_type": "execute_result"
    }
   ],
   "source": [
    "import sys\n",
    "sys.prefix"
   ]
  },
  {
   "cell_type": "code",
   "execution_count": 2,
   "id": "7e02432d",
   "metadata": {},
   "outputs": [
    {
     "name": "stderr",
     "output_type": "stream",
     "text": [
      "/Users/adamjedrzejewski/opt/anaconda3/envs/suml_task4/lib/python3.10/site-packages/fastbook/__init__.py:13: UserWarning: Missing `sentencepiece` - please run `pip install 'sentencepiece<0.1.90'`\n",
      "  except ModuleNotFoundError: warn(\"Missing `sentencepiece` - please run `pip install 'sentencepiece<0.1.90'`\")\n"
     ]
    }
   ],
   "source": [
    "import os\n",
    "import pandas as pd\n",
    "import numpy as np\n",
    "import cv2\n",
    "import matplotlib.pyplot as plt\n",
    "import fastbook\n",
    "\n",
    "from fastbook import *\n",
    "from fastai.vision.widgets import *\n",
    "from sklearn.preprocessing import LabelEncoder\n",
    "from sklearn.model_selection import train_test_split"
   ]
  },
  {
   "cell_type": "code",
   "execution_count": 3,
   "id": "ef9f4965",
   "metadata": {},
   "outputs": [],
   "source": [
    "dataset_dir = './dataset'\n",
    "male_eyes = f'{dataset_dir}/maleeyes'\n",
    "female_eyes = f'{dataset_dir}/femaleeyes'"
   ]
  },
  {
   "cell_type": "markdown",
   "id": "f33338bc",
   "metadata": {},
   "source": [
    "## create dataframe"
   ]
  },
  {
   "cell_type": "code",
   "execution_count": 4,
   "id": "772d2b97",
   "metadata": {},
   "outputs": [],
   "source": [
    "male_eyes_files = [[os.path.join(male_eyes, filename), 'male'] for filename in os.listdir(male_eyes)]\n",
    "female_eyes_files = [[os.path.join(female_eyes, filename), 'female'] for filename in os.listdir(female_eyes)]"
   ]
  },
  {
   "cell_type": "markdown",
   "id": "72355165",
   "metadata": {},
   "source": [
    "balance the data"
   ]
  },
  {
   "cell_type": "code",
   "execution_count": 5,
   "id": "75cb8c19",
   "metadata": {},
   "outputs": [
    {
     "data": {
      "text/plain": [
       "6323"
      ]
     },
     "execution_count": 5,
     "metadata": {},
     "output_type": "execute_result"
    }
   ],
   "source": [
    "len(male_eyes_files)"
   ]
  },
  {
   "cell_type": "code",
   "execution_count": 6,
   "id": "306fc7c7",
   "metadata": {},
   "outputs": [
    {
     "data": {
      "text/plain": [
       "5202"
      ]
     },
     "execution_count": 6,
     "metadata": {},
     "output_type": "execute_result"
    }
   ],
   "source": [
    "len(female_eyes_files)"
   ]
  },
  {
   "cell_type": "code",
   "execution_count": 7,
   "id": "ee9a5c6a",
   "metadata": {},
   "outputs": [],
   "source": [
    "male_eyes_files = male_eyes_files[:5202]"
   ]
  },
  {
   "cell_type": "code",
   "execution_count": 8,
   "id": "d47e3449",
   "metadata": {},
   "outputs": [
    {
     "data": {
      "text/plain": [
       "True"
      ]
     },
     "execution_count": 8,
     "metadata": {},
     "output_type": "execute_result"
    }
   ],
   "source": [
    "len(male_eyes_files) == len(female_eyes_files)"
   ]
  },
  {
   "cell_type": "code",
   "execution_count": 9,
   "id": "627bc49d",
   "metadata": {},
   "outputs": [],
   "source": [
    "eyes_files = male_eyes_files + female_eyes_files"
   ]
  },
  {
   "cell_type": "code",
   "execution_count": 10,
   "id": "f5ce6e6b",
   "metadata": {},
   "outputs": [],
   "source": [
    "df = pd.DataFrame(eyes_files, columns=['image_path', 'label'])"
   ]
  },
  {
   "cell_type": "code",
   "execution_count": 11,
   "id": "b1714308",
   "metadata": {},
   "outputs": [
    {
     "data": {
      "text/html": [
       "<div>\n",
       "<style scoped>\n",
       "    .dataframe tbody tr th:only-of-type {\n",
       "        vertical-align: middle;\n",
       "    }\n",
       "\n",
       "    .dataframe tbody tr th {\n",
       "        vertical-align: top;\n",
       "    }\n",
       "\n",
       "    .dataframe thead th {\n",
       "        text-align: right;\n",
       "    }\n",
       "</style>\n",
       "<table border=\"1\" class=\"dataframe\">\n",
       "  <thead>\n",
       "    <tr style=\"text-align: right;\">\n",
       "      <th></th>\n",
       "      <th>image_path</th>\n",
       "      <th>label</th>\n",
       "    </tr>\n",
       "  </thead>\n",
       "  <tbody>\n",
       "    <tr>\n",
       "      <th>count</th>\n",
       "      <td>10404</td>\n",
       "      <td>10404</td>\n",
       "    </tr>\n",
       "    <tr>\n",
       "      <th>unique</th>\n",
       "      <td>10404</td>\n",
       "      <td>2</td>\n",
       "    </tr>\n",
       "    <tr>\n",
       "      <th>top</th>\n",
       "      <td>./dataset/maleeyes/63.jpg</td>\n",
       "      <td>male</td>\n",
       "    </tr>\n",
       "    <tr>\n",
       "      <th>freq</th>\n",
       "      <td>1</td>\n",
       "      <td>5202</td>\n",
       "    </tr>\n",
       "  </tbody>\n",
       "</table>\n",
       "</div>"
      ],
      "text/plain": [
       "                       image_path  label\n",
       "count                       10404  10404\n",
       "unique                      10404      2\n",
       "top     ./dataset/maleeyes/63.jpg   male\n",
       "freq                            1   5202"
      ]
     },
     "execution_count": 11,
     "metadata": {},
     "output_type": "execute_result"
    }
   ],
   "source": [
    "df.describe()"
   ]
  },
  {
   "cell_type": "code",
   "execution_count": 12,
   "id": "7aad73b2",
   "metadata": {},
   "outputs": [],
   "source": [
    "df = df.sample(frac=1).reset_index(drop=True)"
   ]
  },
  {
   "cell_type": "code",
   "execution_count": 13,
   "id": "d277de62",
   "metadata": {},
   "outputs": [
    {
     "data": {
      "text/html": [
       "<div>\n",
       "<style scoped>\n",
       "    .dataframe tbody tr th:only-of-type {\n",
       "        vertical-align: middle;\n",
       "    }\n",
       "\n",
       "    .dataframe tbody tr th {\n",
       "        vertical-align: top;\n",
       "    }\n",
       "\n",
       "    .dataframe thead th {\n",
       "        text-align: right;\n",
       "    }\n",
       "</style>\n",
       "<table border=\"1\" class=\"dataframe\">\n",
       "  <thead>\n",
       "    <tr style=\"text-align: right;\">\n",
       "      <th></th>\n",
       "      <th>image_path</th>\n",
       "      <th>label</th>\n",
       "    </tr>\n",
       "  </thead>\n",
       "  <tbody>\n",
       "    <tr>\n",
       "      <th>0</th>\n",
       "      <td>./dataset/femaleeyes/6660.jpg</td>\n",
       "      <td>female</td>\n",
       "    </tr>\n",
       "    <tr>\n",
       "      <th>1</th>\n",
       "      <td>./dataset/femaleeyes/3028.jpg</td>\n",
       "      <td>female</td>\n",
       "    </tr>\n",
       "    <tr>\n",
       "      <th>2</th>\n",
       "      <td>./dataset/femaleeyes/7087.jpg</td>\n",
       "      <td>female</td>\n",
       "    </tr>\n",
       "    <tr>\n",
       "      <th>3</th>\n",
       "      <td>./dataset/maleeyes/3968.jpg</td>\n",
       "      <td>male</td>\n",
       "    </tr>\n",
       "    <tr>\n",
       "      <th>4</th>\n",
       "      <td>./dataset/maleeyes/5594.jpg</td>\n",
       "      <td>male</td>\n",
       "    </tr>\n",
       "    <tr>\n",
       "      <th>...</th>\n",
       "      <td>...</td>\n",
       "      <td>...</td>\n",
       "    </tr>\n",
       "    <tr>\n",
       "      <th>10399</th>\n",
       "      <td>./dataset/femaleeyes/2076.jpg</td>\n",
       "      <td>female</td>\n",
       "    </tr>\n",
       "    <tr>\n",
       "      <th>10400</th>\n",
       "      <td>./dataset/maleeyes/4209.jpg</td>\n",
       "      <td>male</td>\n",
       "    </tr>\n",
       "    <tr>\n",
       "      <th>10401</th>\n",
       "      <td>./dataset/femaleeyes/5097.jpg</td>\n",
       "      <td>female</td>\n",
       "    </tr>\n",
       "    <tr>\n",
       "      <th>10402</th>\n",
       "      <td>./dataset/maleeyes/1143.jpg</td>\n",
       "      <td>male</td>\n",
       "    </tr>\n",
       "    <tr>\n",
       "      <th>10403</th>\n",
       "      <td>./dataset/femaleeyes/1901.jpg</td>\n",
       "      <td>female</td>\n",
       "    </tr>\n",
       "  </tbody>\n",
       "</table>\n",
       "<p>10404 rows × 2 columns</p>\n",
       "</div>"
      ],
      "text/plain": [
       "                          image_path   label\n",
       "0      ./dataset/femaleeyes/6660.jpg  female\n",
       "1      ./dataset/femaleeyes/3028.jpg  female\n",
       "2      ./dataset/femaleeyes/7087.jpg  female\n",
       "3        ./dataset/maleeyes/3968.jpg    male\n",
       "4        ./dataset/maleeyes/5594.jpg    male\n",
       "...                              ...     ...\n",
       "10399  ./dataset/femaleeyes/2076.jpg  female\n",
       "10400    ./dataset/maleeyes/4209.jpg    male\n",
       "10401  ./dataset/femaleeyes/5097.jpg  female\n",
       "10402    ./dataset/maleeyes/1143.jpg    male\n",
       "10403  ./dataset/femaleeyes/1901.jpg  female\n",
       "\n",
       "[10404 rows x 2 columns]"
      ]
     },
     "execution_count": 13,
     "metadata": {},
     "output_type": "execute_result"
    }
   ],
   "source": [
    "df"
   ]
  },
  {
   "cell_type": "code",
   "execution_count": 14,
   "id": "1fe5c497",
   "metadata": {},
   "outputs": [
    {
     "data": {
      "text/plain": [
       "image_path    False\n",
       "label         False\n",
       "dtype: bool"
      ]
     },
     "execution_count": 14,
     "metadata": {},
     "output_type": "execute_result"
    }
   ],
   "source": [
    "df.isna().any()"
   ]
  },
  {
   "cell_type": "markdown",
   "id": "ede49836",
   "metadata": {},
   "source": [
    "## explore the images"
   ]
  },
  {
   "cell_type": "code",
   "execution_count": 15,
   "id": "a629c2fd",
   "metadata": {},
   "outputs": [],
   "source": [
    "female_eye = df[df['label'] == 'female'].iloc[0]['image_path']\n",
    "male_eye = df[df['label'] == 'male'].iloc[0]['image_path']"
   ]
  },
  {
   "cell_type": "code",
   "execution_count": 16,
   "id": "38ba7d45",
   "metadata": {},
   "outputs": [
    {
     "data": {
      "text/plain": [
       "Text(0.5, 1.0, 'female eye')"
      ]
     },
     "execution_count": 16,
     "metadata": {},
     "output_type": "execute_result"
    },
    {
     "data": {
      "image/png": "[encoded data removed]",
      "text/plain": [
       "<Figure size 200x200 with 1 Axes>"
      ]
     },
     "metadata": {},
     "output_type": "display_data"
    }
   ],
   "source": [
    "figure = plt.figure(figsize=(2,2))\n",
    "image = plt.imread(female_eye)\n",
    "plt.imshow(image)\n",
    "plt.xlabel(image.shape)\n",
    "plt.title('female eye')"
   ]
  },
  {
   "cell_type": "code",
   "execution_count": 17,
   "id": "2fcd2aa7",
   "metadata": {},
   "outputs": [
    {
     "data": {
      "text/plain": [
       "Text(0.5, 1.0, 'male eye')"
      ]
     },
     "execution_count": 17,
     "metadata": {},
     "output_type": "execute_result"
    },
    {
     "data": {
      "image/png": "[encoded data removed]",
      "text/plain": [
       "<Figure size 200x200 with 1 Axes>"
      ]
     },
     "metadata": {},
     "output_type": "display_data"
    }
   ],
   "source": [
    "figure = plt.figure(figsize=(2,2))\n",
    "image = plt.imread(male_eye)\n",
    "plt.imshow(image)\n",
    "plt.xlabel(image.shape)\n",
    "plt.title('male eye')"
   ]
  },
  {
   "cell_type": "markdown",
   "id": "655236e9",
   "metadata": {},
   "source": [
    "Those two samples have different sizes, let's resize all images to the same size for better classification"
   ]
  },
  {
   "cell_type": "code",
   "execution_count": 18,
   "id": "fd51c269",
   "metadata": {},
   "outputs": [
    {
     "data": {
      "text/plain": [
       "66"
      ]
     },
     "execution_count": 18,
     "metadata": {},
     "output_type": "execute_result"
    }
   ],
   "source": [
    "size_set = set()\n",
    "for image in df['image_path']:\n",
    "    x, y, _ = plt.imread(image).shape\n",
    "    size_set.add((x,y))\n",
    "len(size_set)"
   ]
  },
  {
   "cell_type": "code",
   "execution_count": 19,
   "id": "e81b967b",
   "metadata": {},
   "outputs": [],
   "source": [
    "sorted_sizes = list(sorted(size_set))\n",
    "smallest_image = sorted_sizes[0]\n",
    "largest_image = sorted_sizes[-1]"
   ]
  },
  {
   "cell_type": "code",
   "execution_count": 20,
   "id": "317dd99e",
   "metadata": {},
   "outputs": [
    {
     "name": "stdout",
     "output_type": "stream",
     "text": [
      "smallest:  (41, 41)\n",
      "largest: (117, 117)\n"
     ]
    }
   ],
   "source": [
    "print('smallest: ', smallest_image)\n",
    "print('largest:', largest_image)"
   ]
  },
  {
   "cell_type": "code",
   "execution_count": 21,
   "id": "5f15714c",
   "metadata": {},
   "outputs": [],
   "source": [
    "df_1 = df.copy()\n",
    "df_1 = df_1.rename(columns={'image_path':'image'})"
   ]
  },
  {
   "cell_type": "code",
   "execution_count": 22,
   "id": "6b8221f2",
   "metadata": {},
   "outputs": [],
   "source": [
    "size = (41, 41)\n",
    "for i in range(len(df)):\n",
    "    image = cv2.imread(df['image_path'][i])\n",
    "    image = cv2.resize(image, size)\n",
    "    image = cv2.cvtColor(image, cv2.COLOR_BGR2RGB)\n",
    "    df_1['image'][i] = image.flatten()"
   ]
  },
  {
   "cell_type": "code",
   "execution_count": 23,
   "id": "97c7475b",
   "metadata": {},
   "outputs": [
    {
     "data": {
      "text/html": [
       "<div>\n",
       "<style scoped>\n",
       "    .dataframe tbody tr th:only-of-type {\n",
       "        vertical-align: middle;\n",
       "    }\n",
       "\n",
       "    .dataframe tbody tr th {\n",
       "        vertical-align: top;\n",
       "    }\n",
       "\n",
       "    .dataframe thead th {\n",
       "        text-align: right;\n",
       "    }\n",
       "</style>\n",
       "<table border=\"1\" class=\"dataframe\">\n",
       "  <thead>\n",
       "    <tr style=\"text-align: right;\">\n",
       "      <th></th>\n",
       "      <th>image</th>\n",
       "      <th>label</th>\n",
       "    </tr>\n",
       "  </thead>\n",
       "  <tbody>\n",
       "    <tr>\n",
       "      <th>0</th>\n",
       "      <td>[140, 102, 75, 112, 75, 43, 105, 72, 36, 98, 68, 35, 97, 64, 34, 90, 55, 27, 91, 54, 29, 85, 49, 25, 87, 53, 29, 94, 58, 35, 104, 68, 45, 105, 69, 47, 106, 71, 51, 110, 76, 56, 103, 68, 47, 94, 60, 39, 96, 63, 40, 92, 58, 38, 113, 79, 58, 120, 86, 62, 120, 81, 58, 127, 85, 60, 136, 91, 68, 142, 97, 74, 147, 103, 80, 142, 97, 74, 144, 101, 77, 170, 127, 102, 188, 143, 119, 197, 153, 128, 201, 158, 133, 197, 149, 126, 199, 153, 129, 213, ...]</td>\n",
       "      <td>female</td>\n",
       "    </tr>\n",
       "    <tr>\n",
       "      <th>1</th>\n",
       "      <td>[240, 195, 155, 237, 193, 156, 235, 191, 154, 238, 192, 156, 240, 194, 158, 241, 192, 158, 240, 192, 156, 239, 188, 154, 241, 188, 156, 240, 187, 155, 229, 174, 140, 223, 165, 131, 221, 164, 122, 217, 157, 118, 214, 150, 115, 208, 143, 111, 192, 127, 97, 180, 115, 85, 172, 107, 78, 160, 100, 71, 137, 81, 53, 129, 75, 49, 125, 70, 49, 118, 66, 47, 116, 65, 49, 120, 69, 52, 120, 71, 54, 116, 68, 51, 119, 70, 53, 119, 67, 51, 120, 66, 53, 126, 73, 59, 123, 69, 53, 136, ...]</td>\n",
       "      <td>female</td>\n",
       "    </tr>\n",
       "    <tr>\n",
       "      <th>2</th>\n",
       "      <td>[222, 221, 198, 223, 227, 205, 221, 231, 207, 220, 228, 205, 221, 225, 207, 222, 228, 210, 221, 227, 210, 227, 231, 220, 230, 236, 226, 225, 232, 220, 224, 228, 216, 229, 231, 221, 234, 239, 229, 231, 239, 228, 232, 239, 230, 240, 246, 242, 238, 245, 243, 237, 244, 246, 244, 250, 252, 246, 250, 252, 243, 247, 248, 241, 249, 250, 238, 248, 245, 240, 246, 242, 238, 248, 236, 234, 243, 227, 228, 237, 222, 225, 236, 220, 229, 237, 222, 230, 232, 217, 223, 224, 207, 223, 226, 206, 219, 222, 202, 215, ...]</td>\n",
       "      <td>female</td>\n",
       "    </tr>\n",
       "    <tr>\n",
       "      <th>3</th>\n",
       "      <td>[184, 120, 83, 186, 124, 88, 189, 135, 93, 198, 151, 104, 212, 163, 116, 212, 160, 113, 200, 146, 100, 193, 138, 94, 189, 134, 93, 192, 136, 96, 198, 140, 100, 194, 136, 96, 193, 137, 96, 187, 129, 90, 194, 136, 96, 193, 137, 96, 195, 143, 101, 189, 138, 94, 200, 145, 106, 196, 141, 104, 183, 129, 92, 186, 133, 96, 177, 123, 85, 174, 121, 82, 182, 129, 91, 182, 127, 90, 183, 129, 91, 179, 126, 85, 179, 126, 89, 175, 123, 90, 162, 112, 81, 149, 98, 72, 124, 75, 50, 141, ...]</td>\n",
       "      <td>male</td>\n",
       "    </tr>\n",
       "    <tr>\n",
       "      <th>4</th>\n",
       "      <td>[223, 217, 193, 223, 217, 193, 223, 218, 196, 225, 219, 197, 227, 221, 199, 228, 222, 200, 227, 222, 202, 229, 223, 203, 231, 224, 205, 233, 228, 208, 234, 229, 209, 235, 230, 210, 235, 230, 210, 234, 229, 209, 234, 229, 209, 235, 230, 208, 232, 229, 208, 233, 228, 208, 234, 229, 210, 235, 228, 210, 235, 230, 211, 231, 228, 209, 231, 228, 209, 232, 227, 208, 231, 226, 207, 232, 227, 208, 232, 228, 208, 234, 229, 210, 234, 228, 210, 234, 229, 210, 233, 229, 209, 231, 228, 207, 233, 227, 207, 234, ...]</td>\n",
       "      <td>male</td>\n",
       "    </tr>\n",
       "  </tbody>\n",
       "</table>\n",
       "</div>"
      ],
      "text/plain": [
       "                                                                                                                                                                                                                                                                                                                                                                                                                                                                                                                       image  \\\n",
       "0                                                               [140, 102, 75, 112, 75, 43, 105, 72, 36, 98, 68, 35, 97, 64, 34, 90, 55, 27, 91, 54, 29, 85, 49, 25, 87, 53, 29, 94, 58, 35, 104, 68, 45, 105, 69, 47, 106, 71, 51, 110, 76, 56, 103, 68, 47, 94, 60, 39, 96, 63, 40, 92, 58, 38, 113, 79, 58, 120, 86, 62, 120, 81, 58, 127, 85, 60, 136, 91, 68, 142, 97, 74, 147, 103, 80, 142, 97, 74, 144, 101, 77, 170, 127, 102, 188, 143, 119, 197, 153, 128, 201, 158, 133, 197, 149, 126, 199, 153, 129, 213, ...]   \n",
       "1                                [240, 195, 155, 237, 193, 156, 235, 191, 154, 238, 192, 156, 240, 194, 158, 241, 192, 158, 240, 192, 156, 239, 188, 154, 241, 188, 156, 240, 187, 155, 229, 174, 140, 223, 165, 131, 221, 164, 122, 217, 157, 118, 214, 150, 115, 208, 143, 111, 192, 127, 97, 180, 115, 85, 172, 107, 78, 160, 100, 71, 137, 81, 53, 129, 75, 49, 125, 70, 49, 118, 66, 47, 116, 65, 49, 120, 69, 52, 120, 71, 54, 116, 68, 51, 119, 70, 53, 119, 67, 51, 120, 66, 53, 126, 73, 59, 123, 69, 53, 136, ...]   \n",
       "2  [222, 221, 198, 223, 227, 205, 221, 231, 207, 220, 228, 205, 221, 225, 207, 222, 228, 210, 221, 227, 210, 227, 231, 220, 230, 236, 226, 225, 232, 220, 224, 228, 216, 229, 231, 221, 234, 239, 229, 231, 239, 228, 232, 239, 230, 240, 246, 242, 238, 245, 243, 237, 244, 246, 244, 250, 252, 246, 250, 252, 243, 247, 248, 241, 249, 250, 238, 248, 245, 240, 246, 242, 238, 248, 236, 234, 243, 227, 228, 237, 222, 225, 236, 220, 229, 237, 222, 230, 232, 217, 223, 224, 207, 223, 226, 206, 219, 222, 202, 215, ...]   \n",
       "3                             [184, 120, 83, 186, 124, 88, 189, 135, 93, 198, 151, 104, 212, 163, 116, 212, 160, 113, 200, 146, 100, 193, 138, 94, 189, 134, 93, 192, 136, 96, 198, 140, 100, 194, 136, 96, 193, 137, 96, 187, 129, 90, 194, 136, 96, 193, 137, 96, 195, 143, 101, 189, 138, 94, 200, 145, 106, 196, 141, 104, 183, 129, 92, 186, 133, 96, 177, 123, 85, 174, 121, 82, 182, 129, 91, 182, 127, 90, 183, 129, 91, 179, 126, 85, 179, 126, 89, 175, 123, 90, 162, 112, 81, 149, 98, 72, 124, 75, 50, 141, ...]   \n",
       "4  [223, 217, 193, 223, 217, 193, 223, 218, 196, 225, 219, 197, 227, 221, 199, 228, 222, 200, 227, 222, 202, 229, 223, 203, 231, 224, 205, 233, 228, 208, 234, 229, 209, 235, 230, 210, 235, 230, 210, 234, 229, 209, 234, 229, 209, 235, 230, 208, 232, 229, 208, 233, 228, 208, 234, 229, 210, 235, 228, 210, 235, 230, 211, 231, 228, 209, 231, 228, 209, 232, 227, 208, 231, 226, 207, 232, 227, 208, 232, 228, 208, 234, 229, 210, 234, 228, 210, 234, 229, 210, 233, 229, 209, 231, 228, 207, 233, 227, 207, 234, ...]   \n",
       "\n",
       "    label  \n",
       "0  female  \n",
       "1  female  \n",
       "2  female  \n",
       "3    male  \n",
       "4    male  "
      ]
     },
     "execution_count": 23,
     "metadata": {},
     "output_type": "execute_result"
    }
   ],
   "source": [
    "df_1.head()"
   ]
  },
  {
   "cell_type": "markdown",
   "id": "2c96ddbd",
   "metadata": {},
   "source": [
    "## CNN model"
   ]
  },
  {
   "cell_type": "markdown",
   "id": "10820335",
   "metadata": {},
   "source": [
    "encode labels"
   ]
  },
  {
   "cell_type": "code",
   "execution_count": 24,
   "id": "329c2536",
   "metadata": {},
   "outputs": [],
   "source": [
    "train_df, test_df = train_test_split(df_1, test_size=0.2, random_state=2)"
   ]
  },
  {
   "cell_type": "code",
   "execution_count": 25,
   "id": "8881782f",
   "metadata": {},
   "outputs": [],
   "source": [
    "data = DataBlock(\n",
    "    blocks=(ImageBlock, CategoryBlock),\n",
    "    get_items=get_image_files,\n",
    "    splitter=RandomSplitter(valid_pct=0.2,seed=42),\n",
    "    get_y=parent_label,\n",
    "    item_tfms=Resize(128)\n",
    ")"
   ]
  },
  {
   "cell_type": "code",
   "execution_count": 26,
   "id": "ce0a9775",
   "metadata": {},
   "outputs": [
    {
     "ename": "TypeError",
     "evalue": "Instance and class checks can only be used with @runtime_checkable protocols",
     "output_type": "error",
     "traceback": [
      "\u001b[0;31m---------------------------------------------------------------------------\u001b[0m",
      "\u001b[0;31mTypeError\u001b[0m                                 Traceback (most recent call last)",
      "Input \u001b[0;32mIn [26]\u001b[0m, in \u001b[0;36m<cell line: 1>\u001b[0;34m()\u001b[0m\n\u001b[0;32m----> 1\u001b[0m dls \u001b[38;5;241m=\u001b[39m \u001b[43mdata\u001b[49m\u001b[38;5;241;43m.\u001b[39;49m\u001b[43mdataloaders\u001b[49m\u001b[43m(\u001b[49m\u001b[43mdataset_dir\u001b[49m\u001b[43m,\u001b[49m\u001b[43m \u001b[49m\u001b[43mbs\u001b[49m\u001b[43m \u001b[49m\u001b[38;5;241;43m=\u001b[39;49m\u001b[43m \u001b[49m\u001b[38;5;241;43m32\u001b[39;49m\u001b[43m,\u001b[49m\u001b[43m \u001b[49m\u001b[43mnum_workers\u001b[49m\u001b[43m \u001b[49m\u001b[38;5;241;43m=\u001b[39;49m\u001b[43m \u001b[49m\u001b[38;5;241;43m0\u001b[39;49m\u001b[43m)\u001b[49m\n",
      "File \u001b[0;32m~/opt/anaconda3/envs/suml_task4/lib/python3.10/site-packages/fastai/data/block.py:157\u001b[0m, in \u001b[0;36mDataBlock.dataloaders\u001b[0;34m(self, source, path, verbose, **kwargs)\u001b[0m\n\u001b[1;32m    155\u001b[0m dsets \u001b[38;5;241m=\u001b[39m \u001b[38;5;28mself\u001b[39m\u001b[38;5;241m.\u001b[39mdatasets(source, verbose\u001b[38;5;241m=\u001b[39mverbose)\n\u001b[1;32m    156\u001b[0m kwargs \u001b[38;5;241m=\u001b[39m {\u001b[38;5;241m*\u001b[39m\u001b[38;5;241m*\u001b[39m\u001b[38;5;28mself\u001b[39m\u001b[38;5;241m.\u001b[39mdls_kwargs, \u001b[38;5;241m*\u001b[39m\u001b[38;5;241m*\u001b[39mkwargs, \u001b[38;5;124m'\u001b[39m\u001b[38;5;124mverbose\u001b[39m\u001b[38;5;124m'\u001b[39m: verbose}\n\u001b[0;32m--> 157\u001b[0m \u001b[38;5;28;01mreturn\u001b[39;00m \u001b[43mdsets\u001b[49m\u001b[38;5;241;43m.\u001b[39;49m\u001b[43mdataloaders\u001b[49m\u001b[43m(\u001b[49m\u001b[43mpath\u001b[49m\u001b[38;5;241;43m=\u001b[39;49m\u001b[43mpath\u001b[49m\u001b[43m,\u001b[49m\u001b[43m \u001b[49m\u001b[43mafter_item\u001b[49m\u001b[38;5;241;43m=\u001b[39;49m\u001b[38;5;28;43mself\u001b[39;49m\u001b[38;5;241;43m.\u001b[39;49m\u001b[43mitem_tfms\u001b[49m\u001b[43m,\u001b[49m\u001b[43m \u001b[49m\u001b[43mafter_batch\u001b[49m\u001b[38;5;241;43m=\u001b[39;49m\u001b[38;5;28;43mself\u001b[39;49m\u001b[38;5;241;43m.\u001b[39;49m\u001b[43mbatch_tfms\u001b[49m\u001b[43m,\u001b[49m\u001b[43m \u001b[49m\u001b[38;5;241;43m*\u001b[39;49m\u001b[38;5;241;43m*\u001b[39;49m\u001b[43mkwargs\u001b[49m\u001b[43m)\u001b[49m\n",
      "File \u001b[0;32m~/opt/anaconda3/envs/suml_task4/lib/python3.10/site-packages/fastai/data/core.py:332\u001b[0m, in \u001b[0;36mFilteredBase.dataloaders\u001b[0;34m(self, bs, shuffle_train, shuffle, val_shuffle, n, path, dl_type, dl_kwargs, device, drop_last, val_bs, **kwargs)\u001b[0m\n\u001b[1;32m    330\u001b[0m val_kwargs\u001b[38;5;241m=\u001b[39m{k[\u001b[38;5;241m4\u001b[39m:]:v \u001b[38;5;28;01mfor\u001b[39;00m k,v \u001b[38;5;129;01min\u001b[39;00m kwargs\u001b[38;5;241m.\u001b[39mitems() \u001b[38;5;28;01mif\u001b[39;00m k\u001b[38;5;241m.\u001b[39mstartswith(\u001b[38;5;124m'\u001b[39m\u001b[38;5;124mval_\u001b[39m\u001b[38;5;124m'\u001b[39m)}\n\u001b[1;32m    331\u001b[0m def_kwargs \u001b[38;5;241m=\u001b[39m {\u001b[38;5;124m'\u001b[39m\u001b[38;5;124mbs\u001b[39m\u001b[38;5;124m'\u001b[39m:bs,\u001b[38;5;124m'\u001b[39m\u001b[38;5;124mshuffle\u001b[39m\u001b[38;5;124m'\u001b[39m:shuffle,\u001b[38;5;124m'\u001b[39m\u001b[38;5;124mdrop_last\u001b[39m\u001b[38;5;124m'\u001b[39m:drop_last,\u001b[38;5;124m'\u001b[39m\u001b[38;5;124mn\u001b[39m\u001b[38;5;124m'\u001b[39m:n,\u001b[38;5;124m'\u001b[39m\u001b[38;5;124mdevice\u001b[39m\u001b[38;5;124m'\u001b[39m:device}\n\u001b[0;32m--> 332\u001b[0m dl \u001b[38;5;241m=\u001b[39m \u001b[43mdl_type\u001b[49m\u001b[43m(\u001b[49m\u001b[38;5;28;43mself\u001b[39;49m\u001b[38;5;241;43m.\u001b[39;49m\u001b[43msubset\u001b[49m\u001b[43m(\u001b[49m\u001b[38;5;241;43m0\u001b[39;49m\u001b[43m)\u001b[49m\u001b[43m,\u001b[49m\u001b[43m \u001b[49m\u001b[38;5;241;43m*\u001b[39;49m\u001b[38;5;241;43m*\u001b[39;49m\u001b[43mmerge\u001b[49m\u001b[43m(\u001b[49m\u001b[43mkwargs\u001b[49m\u001b[43m,\u001b[49m\u001b[43mdef_kwargs\u001b[49m\u001b[43m,\u001b[49m\u001b[43m \u001b[49m\u001b[43mdl_kwargs\u001b[49m\u001b[43m[\u001b[49m\u001b[38;5;241;43m0\u001b[39;49m\u001b[43m]\u001b[49m\u001b[43m)\u001b[49m\u001b[43m)\u001b[49m\n\u001b[1;32m    333\u001b[0m def_kwargs \u001b[38;5;241m=\u001b[39m {\u001b[38;5;124m'\u001b[39m\u001b[38;5;124mbs\u001b[39m\u001b[38;5;124m'\u001b[39m:bs \u001b[38;5;28;01mif\u001b[39;00m val_bs \u001b[38;5;129;01mis\u001b[39;00m \u001b[38;5;28;01mNone\u001b[39;00m \u001b[38;5;28;01melse\u001b[39;00m val_bs,\u001b[38;5;124m'\u001b[39m\u001b[38;5;124mshuffle\u001b[39m\u001b[38;5;124m'\u001b[39m:val_shuffle,\u001b[38;5;124m'\u001b[39m\u001b[38;5;124mn\u001b[39m\u001b[38;5;124m'\u001b[39m:\u001b[38;5;28;01mNone\u001b[39;00m,\u001b[38;5;124m'\u001b[39m\u001b[38;5;124mdrop_last\u001b[39m\u001b[38;5;124m'\u001b[39m:\u001b[38;5;28;01mFalse\u001b[39;00m}\n\u001b[1;32m    334\u001b[0m dls \u001b[38;5;241m=\u001b[39m [dl] \u001b[38;5;241m+\u001b[39m [dl\u001b[38;5;241m.\u001b[39mnew(\u001b[38;5;28mself\u001b[39m\u001b[38;5;241m.\u001b[39msubset(i), \u001b[38;5;241m*\u001b[39m\u001b[38;5;241m*\u001b[39mmerge(kwargs,def_kwargs,val_kwargs,dl_kwargs[i]))\n\u001b[1;32m    335\u001b[0m               \u001b[38;5;28;01mfor\u001b[39;00m i \u001b[38;5;129;01min\u001b[39;00m \u001b[38;5;28mrange\u001b[39m(\u001b[38;5;241m1\u001b[39m, \u001b[38;5;28mself\u001b[39m\u001b[38;5;241m.\u001b[39mn_subsets)]\n",
      "File \u001b[0;32m~/opt/anaconda3/envs/suml_task4/lib/python3.10/site-packages/fastai/data/core.py:71\u001b[0m, in \u001b[0;36mTfmdDL.__init__\u001b[0;34m(self, dataset, bs, shuffle, num_workers, verbose, do_setup, **kwargs)\u001b[0m\n\u001b[1;32m     69\u001b[0m \u001b[38;5;28;01mif\u001b[39;00m num_workers \u001b[38;5;129;01mis\u001b[39;00m \u001b[38;5;28;01mNone\u001b[39;00m: num_workers \u001b[38;5;241m=\u001b[39m \u001b[38;5;28mmin\u001b[39m(\u001b[38;5;241m16\u001b[39m, defaults\u001b[38;5;241m.\u001b[39mcpus)\n\u001b[1;32m     70\u001b[0m \u001b[38;5;28;01mfor\u001b[39;00m nm \u001b[38;5;129;01min\u001b[39;00m _batch_tfms: kwargs[nm] \u001b[38;5;241m=\u001b[39m Pipeline(kwargs\u001b[38;5;241m.\u001b[39mget(nm,\u001b[38;5;28;01mNone\u001b[39;00m))\n\u001b[0;32m---> 71\u001b[0m \u001b[38;5;28;43msuper\u001b[39;49m\u001b[43m(\u001b[49m\u001b[43m)\u001b[49m\u001b[38;5;241;43m.\u001b[39;49m\u001b[38;5;21;43m__init__\u001b[39;49m\u001b[43m(\u001b[49m\u001b[43mdataset\u001b[49m\u001b[43m,\u001b[49m\u001b[43m \u001b[49m\u001b[43mbs\u001b[49m\u001b[38;5;241;43m=\u001b[39;49m\u001b[43mbs\u001b[49m\u001b[43m,\u001b[49m\u001b[43m \u001b[49m\u001b[43mshuffle\u001b[49m\u001b[38;5;241;43m=\u001b[39;49m\u001b[43mshuffle\u001b[49m\u001b[43m,\u001b[49m\u001b[43m \u001b[49m\u001b[43mnum_workers\u001b[49m\u001b[38;5;241;43m=\u001b[39;49m\u001b[43mnum_workers\u001b[49m\u001b[43m,\u001b[49m\u001b[43m \u001b[49m\u001b[38;5;241;43m*\u001b[39;49m\u001b[38;5;241;43m*\u001b[39;49m\u001b[43mkwargs\u001b[49m\u001b[43m)\u001b[49m\n\u001b[1;32m     72\u001b[0m \u001b[38;5;28;01mif\u001b[39;00m do_setup:\n\u001b[1;32m     73\u001b[0m     \u001b[38;5;28;01mfor\u001b[39;00m nm \u001b[38;5;129;01min\u001b[39;00m _batch_tfms:\n",
      "File \u001b[0;32m~/opt/anaconda3/envs/suml_task4/lib/python3.10/site-packages/fastcore/meta.py:150\u001b[0m, in \u001b[0;36m_funcs_kwargs.<locals>._init\u001b[0;34m(self, *args, **kwargs)\u001b[0m\n\u001b[1;32m    148\u001b[0m         \u001b[38;5;28;01mif\u001b[39;00m \u001b[38;5;28misinstance\u001b[39m(arg,MethodType): arg \u001b[38;5;241m=\u001b[39m MethodType(arg\u001b[38;5;241m.\u001b[39m\u001b[38;5;18m__func__\u001b[39m, \u001b[38;5;28mself\u001b[39m)\n\u001b[1;32m    149\u001b[0m         \u001b[38;5;28msetattr\u001b[39m(\u001b[38;5;28mself\u001b[39m, k, arg)\n\u001b[0;32m--> 150\u001b[0m \u001b[43mold_init\u001b[49m\u001b[43m(\u001b[49m\u001b[38;5;28;43mself\u001b[39;49m\u001b[43m,\u001b[49m\u001b[43m \u001b[49m\u001b[38;5;241;43m*\u001b[39;49m\u001b[43margs\u001b[49m\u001b[43m,\u001b[49m\u001b[43m \u001b[49m\u001b[38;5;241;43m*\u001b[39;49m\u001b[38;5;241;43m*\u001b[39;49m\u001b[43mkwargs\u001b[49m\u001b[43m)\u001b[49m\n",
      "File \u001b[0;32m~/opt/anaconda3/envs/suml_task4/lib/python3.10/site-packages/fastai/data/load.py:97\u001b[0m, in \u001b[0;36mDataLoader.__init__\u001b[0;34m(self, dataset, bs, num_workers, pin_memory, timeout, batch_size, shuffle, drop_last, indexed, n, device, persistent_workers, pin_memory_device, **kwargs)\u001b[0m\n\u001b[1;32m     94\u001b[0m \u001b[38;5;28;01mif\u001b[39;00m batch_size \u001b[38;5;129;01mis\u001b[39;00m \u001b[38;5;129;01mnot\u001b[39;00m \u001b[38;5;28;01mNone\u001b[39;00m: bs \u001b[38;5;241m=\u001b[39m batch_size \u001b[38;5;66;03m# PyTorch compatibility\u001b[39;00m\n\u001b[1;32m     95\u001b[0m \u001b[38;5;28;01massert\u001b[39;00m \u001b[38;5;129;01mnot\u001b[39;00m (bs \u001b[38;5;129;01mis\u001b[39;00m \u001b[38;5;28;01mNone\u001b[39;00m \u001b[38;5;129;01mand\u001b[39;00m drop_last)\n\u001b[1;32m     96\u001b[0m \u001b[38;5;28;01mif\u001b[39;00m indexed \u001b[38;5;129;01mis\u001b[39;00m \u001b[38;5;28;01mNone\u001b[39;00m: indexed \u001b[38;5;241m=\u001b[39m (\u001b[38;5;28mhasattr\u001b[39m(dataset,\u001b[38;5;124m'\u001b[39m\u001b[38;5;124m__getitem__\u001b[39m\u001b[38;5;124m'\u001b[39m)\n\u001b[0;32m---> 97\u001b[0m                                \u001b[38;5;129;01mand\u001b[39;00m \u001b[38;5;129;01mnot\u001b[39;00m \u001b[38;5;28;43misinstance\u001b[39;49m\u001b[43m(\u001b[49m\u001b[43mdataset\u001b[49m\u001b[43m,\u001b[49m\u001b[43m \u001b[49m\u001b[43mIterableDataset\u001b[49m\u001b[43m)\u001b[49m)\n\u001b[1;32m     98\u001b[0m \u001b[38;5;28;01mif\u001b[39;00m \u001b[38;5;129;01mnot\u001b[39;00m indexed \u001b[38;5;129;01mand\u001b[39;00m shuffle: \u001b[38;5;28;01mraise\u001b[39;00m \u001b[38;5;167;01mValueError\u001b[39;00m(\u001b[38;5;124m\"\u001b[39m\u001b[38;5;124mCan only shuffle an indexed dataset (not an iterable one).\u001b[39m\u001b[38;5;124m\"\u001b[39m)\n\u001b[1;32m     99\u001b[0m \u001b[38;5;28;01mif\u001b[39;00m n \u001b[38;5;129;01mis\u001b[39;00m \u001b[38;5;28;01mNone\u001b[39;00m:\n",
      "File \u001b[0;32m~/opt/anaconda3/envs/suml_task4/lib/python3.10/typing.py:1498\u001b[0m, in \u001b[0;36m_ProtocolMeta.__instancecheck__\u001b[0;34m(cls, instance)\u001b[0m\n\u001b[1;32m   1490\u001b[0m \u001b[38;5;28;01mdef\u001b[39;00m \u001b[38;5;21m__instancecheck__\u001b[39m(\u001b[38;5;28mcls\u001b[39m, instance):\n\u001b[1;32m   1491\u001b[0m     \u001b[38;5;66;03m# We need this method for situations where attributes are\u001b[39;00m\n\u001b[1;32m   1492\u001b[0m     \u001b[38;5;66;03m# assigned in __init__.\u001b[39;00m\n\u001b[1;32m   1493\u001b[0m     \u001b[38;5;28;01mif\u001b[39;00m (\n\u001b[1;32m   1494\u001b[0m         \u001b[38;5;28mgetattr\u001b[39m(\u001b[38;5;28mcls\u001b[39m, \u001b[38;5;124m'\u001b[39m\u001b[38;5;124m_is_protocol\u001b[39m\u001b[38;5;124m'\u001b[39m, \u001b[38;5;28;01mFalse\u001b[39;00m) \u001b[38;5;129;01mand\u001b[39;00m\n\u001b[1;32m   1495\u001b[0m         \u001b[38;5;129;01mnot\u001b[39;00m \u001b[38;5;28mgetattr\u001b[39m(\u001b[38;5;28mcls\u001b[39m, \u001b[38;5;124m'\u001b[39m\u001b[38;5;124m_is_runtime_protocol\u001b[39m\u001b[38;5;124m'\u001b[39m, \u001b[38;5;28;01mFalse\u001b[39;00m) \u001b[38;5;129;01mand\u001b[39;00m\n\u001b[1;32m   1496\u001b[0m         \u001b[38;5;129;01mnot\u001b[39;00m _allow_reckless_class_checks(depth\u001b[38;5;241m=\u001b[39m\u001b[38;5;241m2\u001b[39m)\n\u001b[1;32m   1497\u001b[0m     ):\n\u001b[0;32m-> 1498\u001b[0m         \u001b[38;5;28;01mraise\u001b[39;00m \u001b[38;5;167;01mTypeError\u001b[39;00m(\u001b[38;5;124m\"\u001b[39m\u001b[38;5;124mInstance and class checks can only be used with\u001b[39m\u001b[38;5;124m\"\u001b[39m\n\u001b[1;32m   1499\u001b[0m                         \u001b[38;5;124m\"\u001b[39m\u001b[38;5;124m @runtime_checkable protocols\u001b[39m\u001b[38;5;124m\"\u001b[39m)\n\u001b[1;32m   1501\u001b[0m     \u001b[38;5;28;01mif\u001b[39;00m ((\u001b[38;5;129;01mnot\u001b[39;00m \u001b[38;5;28mgetattr\u001b[39m(\u001b[38;5;28mcls\u001b[39m, \u001b[38;5;124m'\u001b[39m\u001b[38;5;124m_is_protocol\u001b[39m\u001b[38;5;124m'\u001b[39m, \u001b[38;5;28;01mFalse\u001b[39;00m) \u001b[38;5;129;01mor\u001b[39;00m\n\u001b[1;32m   1502\u001b[0m             _is_callable_members_only(\u001b[38;5;28mcls\u001b[39m)) \u001b[38;5;129;01mand\u001b[39;00m\n\u001b[1;32m   1503\u001b[0m             \u001b[38;5;28missubclass\u001b[39m(instance\u001b[38;5;241m.\u001b[39m\u001b[38;5;18m__class__\u001b[39m, \u001b[38;5;28mcls\u001b[39m)):\n\u001b[1;32m   1504\u001b[0m         \u001b[38;5;28;01mreturn\u001b[39;00m \u001b[38;5;28;01mTrue\u001b[39;00m\n",
      "\u001b[0;31mTypeError\u001b[0m: Instance and class checks can only be used with @runtime_checkable protocols"
     ]
    }
   ],
   "source": [
    "dls = data.dataloaders(dataset_dir, bs = 32, num_workers = 0)"
   ]
  },
  {
   "cell_type": "code",
   "execution_count": null,
   "id": "60f12d8b",
   "metadata": {},
   "outputs": [],
   "source": []
  }
 ],
 "metadata": {
  "kernelspec": {
   "display_name": "Python 3 (ipykernel)",
   "language": "python",
   "name": "python3"
  },
  "language_info": {
   "codemirror_mode": {
    "name": "ipython",
    "version": 3
   },
   "file_extension": ".py",
   "mimetype": "text/x-python",
   "name": "python",
   "nbconvert_exporter": "python",
   "pygments_lexer": "ipython3",
   "version": "3.10.6"
  }
 },
 "nbformat": 4,
 "nbformat_minor": 5
}
