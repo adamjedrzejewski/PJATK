{
 "cells": [
  {
   "cell_type": "markdown",
   "metadata": {
    "colab_type": "text",
    "id": "oDiKuan4jBln"
   },
   "source": [
    "# Data Science z Python 3.10. CNN w Tensorflow i aplikacja w Flask\n",
    "## 🇬🇧 Data Science with Python 3.10. CNN in Tensorflow and Flask app\n",
    "#### 👨‍🏫 PhD Wojciech Oronowicz-Jaśkowiak\n",
    "#### 🤖 https://www.oronowicz-jaśkowiak.pl/studenci/pjatk"
   ]
  },
  {
   "cell_type": "code",
   "execution_count": 1,
   "metadata": {
    "colab": {},
    "colab_type": "code",
    "id": "doFHompcQwst"
   },
   "outputs": [],
   "source": [
    "import ssl\n",
    "import tensorflow as tf\n",
    "import matplotlib.pyplot as plt\n",
    "import numpy as np \n",
    "\n",
    "from sklearn.model_selection import train_test_split\n",
    "from tensorflow.keras.preprocessing.image import ImageDataGenerator\n",
    "from keras.constraints import maxnorm\n",
    "from keras.preprocessing import image\n",
    "from tensorflow.keras.models import load_model\n",
    "from tensorflow.keras.models import Sequential\n",
    "from tensorflow.keras.preprocessing.image import load_img , img_to_array\n",
    "from tensorflow.keras.layers import Dense , Dropout , Conv2D , MaxPooling2D, Flatten , BatchNormalization\n",
    "# Based on PhD Yash Modi work"
   ]
  },
  {
   "cell_type": "code",
   "execution_count": 2,
   "metadata": {},
   "outputs": [],
   "source": [
    "ssl._create_default_https_context = ssl._create_unverified_context"
   ]
  },
  {
   "cell_type": "code",
   "execution_count": null,
   "metadata": {
    "colab": {
     "base_uri": "https://localhost:8080/",
     "height": 51
    },
    "colab_type": "code",
    "id": "Gz1bXsvJRJmo",
    "outputId": "cfcfbfa8-2139-464a-90a9-fd83c7134bc0"
   },
   "outputs": [
    {
     "name": "stdout",
     "output_type": "stream",
     "text": [
      "Downloading data from https://www.cs.toronto.edu/~kriz/cifar-10-python.tar.gz\n",
      " 10330112/170498071 [>.............................] - ETA: 44s"
     ]
    }
   ],
   "source": [
    "(x_train , y_train) , (x_test , y_test) = tf.keras.datasets.cifar10.load_data()\n",
    "print('x_train shape' , x_train.shape)"
   ]
  },
  {
   "cell_type": "code",
   "execution_count": null,
   "metadata": {
    "colab": {
     "base_uri": "https://localhost:8080/",
     "height": 283
    },
    "colab_type": "code",
    "id": "ELvNk6iMRmM7",
    "outputId": "74bfbf49-ee0e-4ad5-90dd-3ace532dd554"
   },
   "outputs": [],
   "source": [
    "plt.imshow(x_train[100])"
   ]
  },
  {
   "cell_type": "code",
   "execution_count": null,
   "metadata": {
    "colab": {},
    "colab_type": "code",
    "id": "nw3EvgP2TLyo"
   },
   "outputs": [],
   "source": [
    "datagen = ImageDataGenerator(\n",
    "                            rotation_range=20,\n",
    "                            zca_whitening=True,\n",
    ")\n",
    "# Ten etap to augmentacja danych\n",
    "# Polega ona na zastosowaniu w losowy sposób pewnych przekształceń\n",
    "# https://stepup.ai/exploring_data_augmentation_keras/"
   ]
  },
  {
   "cell_type": "code",
   "execution_count": null,
   "metadata": {
    "colab": {},
    "colab_type": "code",
    "id": "5nzeqnKNjJ1b"
   },
   "outputs": [],
   "source": [
    "x_test, x_val, y_test, y_val = train_test_split(x_test, y_test, test_size = 0.2, random_state = 0)\n",
    "# Tu pojawia się nowość\n",
    "# Możemy mieć zbiór testowy, treningowy i walidacyjny"
   ]
  },
  {
   "cell_type": "code",
   "execution_count": null,
   "metadata": {
    "colab": {},
    "colab_type": "code",
    "id": "LatBK_OQTXqT"
   },
   "outputs": [],
   "source": [
    "def normalize(x):\n",
    "    x = x.astype('float32')\n",
    "    x = x/255.0\n",
    "    return x\n",
    "# Podzielenie obrazu przez 255 przeskaluje obraz z 0-255 na 0-1\n",
    "# Konwersja na float z int\n",
    "\n",
    "x_train = normalize(x_train)\n",
    "x_test = normalize(x_test)\n",
    "x_val = normalize(x_val)\n",
    "# Korzystamy z powyższej funkcji dla wszystkich naszych zbiorów\n",
    "\n",
    "y_train = tf.keras.utils.to_categorical(y_train , 10)\n",
    "y_test = tf.keras.utils.to_categorical(y_test , 10)\n",
    "y_val  = tf.keras.utils.to_categorical(y_val , 10)\n",
    "\n",
    "datagen.fit(x_train)"
   ]
  },
  {
   "cell_type": "code",
   "execution_count": null,
   "metadata": {
    "colab": {},
    "colab_type": "code",
    "id": "MNgWkoQddQce"
   },
   "outputs": [],
   "source": [
    "def results(model):\n",
    "  epoch = 1\n",
    "  r = model.fit(datagen.flow(x_train , y_train , batch_size = 32), epochs = epoch, steps_per_epoch=len(x_train)/32, validation_data = (x_val , y_val), verbose = 1)\n",
    "  acc = model.evaluate(x_test , y_test)\n",
    "  print(\"Strata walidacji na zbiorze walidacyjnym: \" , acc[0])\n",
    "  print(\"Dokładność klasyfikacji na zbiorze walidacyjnym:\", acc[1]*100)\n",
    "  epoch_range = range(1, epoch+1)"
   ]
  },
  {
   "cell_type": "code",
   "execution_count": null,
   "metadata": {},
   "outputs": [],
   "source": [
    "weight_decay = 1e-3\n",
    "# Dobre wyjaśnienie czym jest weight_decay - https://towardsdatascience.com/this-thing-called-weight-decay-a7cd4bcfccab\n",
    "# W skrócie - nasze dane są zwykle bardzo złożone, nie możemy dodać wszystkich wag do funkcji straty, musimy pomnożyć sumę kwadratów przez małą liczbę"
   ]
  },
  {
   "cell_type": "code",
   "execution_count": null,
   "metadata": {},
   "outputs": [],
   "source": [
    "model = Sequential()\n",
    "num_classes = y_test.shape[1]\n",
    "opt = tf.keras.optimizers.SGD(lr=0.001, momentum=0.8)\n",
    "\n",
    "model.add(Conv2D(32, (3, 3), input_shape=(32,32,3), activation='relu', padding='same')) \n",
    "model.add(Dropout(0.2)) \n",
    "model.add(Conv2D(32, (3, 3), activation='relu', padding='same')) \n",
    "model.add(MaxPooling2D(pool_size=(2, 2))) \n",
    "model.add(Conv2D(64, (3, 3), activation='relu', padding='same')) \n",
    "model.add(Dropout(0.2)) \n",
    "model.add(Conv2D(64, (3, 3), activation='relu', padding='same')) \n",
    "model.add(MaxPooling2D(pool_size=(2, 2))) \n",
    "model.add(Conv2D(128, (3, 3), activation='relu', padding='same')) \n",
    "model.add(Dropout(0.2)) \n",
    "model.add(Conv2D(128, (3, 3), activation='relu', padding='same')) \n",
    "model.add(MaxPooling2D(pool_size=(2, 2))) \n",
    "model.add(Flatten()) \n",
    "model.add(Dropout(0.2)) \n",
    "model.add(Dense(1024, activation='relu', kernel_constraint=maxnorm(3))) \n",
    "model.add(Dropout(0.2)) \n",
    "model.add(Dense(512, activation='relu', kernel_constraint=maxnorm(3))) \n",
    "model.add(Dropout(0.2)) \n",
    "model.add(Dense(num_classes, activation='softmax'))\n",
    "# Dodajemy poszczególne warstwy do naszej sieci neuronowej"
   ]
  },
  {
   "cell_type": "code",
   "execution_count": null,
   "metadata": {},
   "outputs": [],
   "source": [
    "print(model.summary())\n",
    "# Możemy zobaczyć jak wygląda schemat naszego modelu"
   ]
  },
  {
   "cell_type": "code",
   "execution_count": null,
   "metadata": {},
   "outputs": [],
   "source": [
    "model.compile(optimizer=opt, loss='categorical_crossentropy', metrics=['accuracy'])"
   ]
  },
  {
   "cell_type": "code",
   "execution_count": null,
   "metadata": {
    "colab": {
     "base_uri": "https://localhost:8080/",
     "height": 1000
    },
    "colab_type": "code",
    "id": "PkAOH4DBrrxP",
    "outputId": "7dc6ba42-a300-4efe-e8d7-1c4e16957a28"
   },
   "outputs": [],
   "source": [
    "results(model)\n",
    "# W tym miejscu prowadzimy trening"
   ]
  },
  {
   "cell_type": "code",
   "execution_count": null,
   "metadata": {
    "colab": {},
    "colab_type": "code",
    "id": "XAd2LQEYxV6B"
   },
   "outputs": [],
   "source": [
    "import os\n",
    "from google.colab import drive\n",
    "drive.mount('/content/drive')\n",
    "os.chdir('/content/drive/My Drive')"
   ]
  },
  {
   "cell_type": "code",
   "execution_count": null,
   "metadata": {},
   "outputs": [],
   "source": [
    "model.save(\"model.hdf5\")"
   ]
  }
 ],
 "metadata": {
  "accelerator": "GPU",
  "colab": {
   "collapsed_sections": [],
   "name": "Ka-webApp.ipynb",
   "provenance": []
  },
  "kernelspec": {
   "display_name": "Python 3 (ipykernel)",
   "language": "python",
   "name": "python3"
  },
  "language_info": {
   "codemirror_mode": {
    "name": "ipython",
    "version": 3
   },
   "file_extension": ".py",
   "mimetype": "text/x-python",
   "name": "python",
   "nbconvert_exporter": "python",
   "pygments_lexer": "ipython3",
   "version": "3.10.6"
  }
 },
 "nbformat": 4,
 "nbformat_minor": 1
}
